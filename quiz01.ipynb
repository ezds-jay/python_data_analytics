{
 "cells": [
  {
   "cell_type": "code",
   "execution_count": 1,
   "metadata": {},
   "outputs": [
    {
     "name": "stdout",
     "output_type": "stream",
     "text": [
      "False\n"
     ]
    }
   ],
   "source": [
    "# Quiz 1\n",
    "# 숫자를 변수에 저장하고, 저장한 변수가 조건에 부합하는지 확인해보세요.\n",
    "# 조건 : 숫자의 type이 int/float인지 판단하고 int면 True 아니면 False를 print하게 하십시오\n",
    "\n",
    "# --- 여기에 코딩을 하십시오\n",
    "\n",
    "myVar = 10.0\n",
    "if type(myVar) == int :\n",
    "    print(True)\n",
    "else : \n",
    "    print(False)\n",
    "    "
   ]
  },
  {
   "cell_type": "code",
   "execution_count": 2,
   "metadata": {},
   "outputs": [
    {
     "name": "stdout",
     "output_type": "stream",
     "text": [
      "3과 7의 배수입니다.\n"
     ]
    }
   ],
   "source": [
    "# Quiz 2 \n",
    "# 숫자를 변수에 저장하고, 저장한 변수가 7의 배수라면 3의 배수인지 판단하고 yes이면 '3과 7의 배수입니다'를 프린트하게 하십시오\n",
    "# 그렇지 않다면, 7의 배수이기만 하면 '7의 배수입니다'를 프린트하고, 둘다 아니라면 '3과 7의 배수가 아닙니다'를 프린트하게 하십시오\n",
    "\n",
    "# --- 여기에 코딩을 하십시오\n",
    "\n",
    "myVar = 21\n",
    "\n",
    "if (myVar % 7) == 0 :\n",
    "    if (myVar % 3) == 0 : \n",
    "        print('3과 7의 배수입니다.') \n",
    "    else :\n",
    "        print('7의 배수입니다.')\n",
    "\n",
    "else :\n",
    "    print(\"3과 7의 배수가 아닙니다.\")"
   ]
  },
  {
   "cell_type": "code",
   "execution_count": 3,
   "metadata": {},
   "outputs": [
    {
     "name": "stdout",
     "output_type": "stream",
     "text": [
      "2번째 입력된 값 :  \n",
      "7번째 입력된 값 :  \n"
     ]
    }
   ],
   "source": [
    "# Quiz 3\n",
    "# 반복문을 10번 돌리면서 튜플에 유저가 입력하는 숫자값들을 차례차례 저장하고,\n",
    "# 그 중에서 2번째에 입력된 값과 7번째에 입력한 값들의 합을 프린트해보십시오.\n",
    "\n",
    "# --- 여기에 코딩을 하십시오\n",
    "\n",
    "myTuple = []\n",
    "for i in range(0,10) :\n",
    "   var = input('insert any number : ') \n",
    "   myTuple.append(var)\n",
    "\n",
    "myTuple = tuple(myTuple)\n",
    "\n",
    "print(\"2번째 입력된 값 : \", myTuple[2])\n",
    "print(\"7번째 입력된 값 : \", myTuple[7])"
   ]
  }
 ],
 "metadata": {
  "kernelspec": {
   "display_name": "base",
   "language": "python",
   "name": "python3"
  },
  "language_info": {
   "codemirror_mode": {
    "name": "ipython",
    "version": 3
   },
   "file_extension": ".py",
   "mimetype": "text/x-python",
   "name": "python",
   "nbconvert_exporter": "python",
   "pygments_lexer": "ipython3",
   "version": "3.11.5"
  }
 },
 "nbformat": 4,
 "nbformat_minor": 2
}
