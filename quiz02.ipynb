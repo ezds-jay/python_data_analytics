{
 "cells": [
  {
   "cell_type": "code",
   "execution_count": 1,
   "metadata": {},
   "outputs": [
    {
     "name": "stdout",
     "output_type": "stream",
     "text": [
      "안녕 친구들~\n"
     ]
    }
   ],
   "source": [
    "# Q1. Person 이라고 하는 클래스를 만들어봅시다.\n",
    "# 속성값으로 name, age, gender, 전화번호를 만들어서 넣어주세요.\n",
    "# 기능으로는 인사하기가 있다고 해봅시다.\n",
    "\n",
    "class Person :\n",
    "\n",
    "    def __init__(self, name, age, gender, phone_number) :\n",
    "        self.name = name\n",
    "        self.age = age\n",
    "        self.gender = gender\n",
    "        self.phone_number = phone_number\n",
    "    \n",
    "    def say_hello(self) :\n",
    "        print(\"안녕 친구들~\")\n",
    "\n",
    "andy = Person(name=\"andy\", age='20', gender='male', phone_number='000-111-222')\n",
    "andy.say_hello()"
   ]
  },
  {
   "cell_type": "code",
   "execution_count": 2,
   "metadata": {},
   "outputs": [
    {
     "data": {
      "text/plain": [
       "{'name': '이수지', 'age': 32, 'gender': '여', 'phone_number': '010-7777-8888'}"
      ]
     },
     "execution_count": 2,
     "metadata": {},
     "output_type": "execute_result"
    }
   ],
   "source": [
    "# Q2.\n",
    "# 1) 위에서 만든 테이블과 비슷하게, 회원 인적정보인 이름, 나이, 성별, 전화번호를 저장하는 함수를 만들고 \n",
    "# 2) 다음의 사람 정보를 받아 딕셔너리 자료구조에 담아 반환하세요.\n",
    "# 3) <이수지, 32, 여, 010-7777-8888>\n",
    "\n",
    "def save_information(name, age, gender, phone_number) :\n",
    "    information  = {\n",
    "        \"name\" : name,\n",
    "        \"age\" : age,\n",
    "        \"gender\" : gender,\n",
    "        \"phone_number\" : phone_number\n",
    "    }\n",
    "    return information\n",
    "\n",
    "save_information(\"이수지\", 32, '여', '010-7777-8888')"
   ]
  }
 ],
 "metadata": {
  "kernelspec": {
   "display_name": "base",
   "language": "python",
   "name": "python3"
  },
  "language_info": {
   "codemirror_mode": {
    "name": "ipython",
    "version": 3
   },
   "file_extension": ".py",
   "mimetype": "text/x-python",
   "name": "python",
   "nbconvert_exporter": "python",
   "pygments_lexer": "ipython3",
   "version": "3.11.5"
  }
 },
 "nbformat": 4,
 "nbformat_minor": 2
}
