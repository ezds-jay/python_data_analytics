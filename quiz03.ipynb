{
 "cells": [
  {
   "cell_type": "code",
   "execution_count": 1,
   "metadata": {},
   "outputs": [
    {
     "name": "stdout",
     "output_type": "stream",
     "text": [
      "안녕하세요, 저는 Tom이고 40살입니다.\n"
     ]
    }
   ],
   "source": [
    "# Q1. 위에서 작성했던 mymodule의 Person class를 불러와서 인스턴스를 만들어봅시다.\n",
    "# 인스턴스에 들어갈 정보는 다음과 같습니다.\n",
    "# Tom, 40\n",
    "\n",
    "# -- 여기에 코드를 작성해봅시다.\n",
    "\n",
    "from mymodule import Person\n",
    "\n",
    "tom = Person(\"Tom\", 40)\n",
    "tom.hello()\n"
   ]
  }
 ],
 "metadata": {
  "kernelspec": {
   "display_name": "base",
   "language": "python",
   "name": "python3"
  },
  "language_info": {
   "codemirror_mode": {
    "name": "ipython",
    "version": 3
   },
   "file_extension": ".py",
   "mimetype": "text/x-python",
   "name": "python",
   "nbconvert_exporter": "python",
   "pygments_lexer": "ipython3",
   "version": "3.11.5"
  }
 },
 "nbformat": 4,
 "nbformat_minor": 2
}
